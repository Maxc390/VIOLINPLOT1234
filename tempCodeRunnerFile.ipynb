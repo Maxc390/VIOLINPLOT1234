import streamlit as st
import pandas as pd
import seaborn as sns
import matplotlib.pyplot as plt

@st.cache
def load_data(file_name):
    return pd.read_csv(file_name)

df = load_data('gapminder_with_codes.csv')

st.title("Violin Plot")

st.sidebar.title("Plot Customization")
column = st.sidebar.selectbox("Select a column", df.columns)

st.write("Displaying data from column", column)

plt.figure(figsize=(10, 6))
sns.violinplot(x=df[column])
st.pyplot()
